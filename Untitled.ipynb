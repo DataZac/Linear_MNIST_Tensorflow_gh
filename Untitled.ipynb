{
 "cells": [
  {
   "cell_type": "markdown",
   "metadata": {},
   "source": [
    "# Detailed walkthrough through tf mechanics.\n",
    "## Pausing, digging deep and having fun at crucial points. The goals are:\n",
    "### 1. Implementation of image classification\n",
    "### 2. Implementation of performance measures and model analysis\n",
    "### 3. Discussing the code and the results to obtain an understanding as clear as possible"
   ]
  },
  {
   "cell_type": "code",
   "execution_count": 24,
   "metadata": {
    "collapsed": true
   },
   "outputs": [],
   "source": [
    "# https://www.tensorflow.org/programmers_guide/low_level_intro\n",
    "# exec(open(MNIST_Linear.py).read())\n",
    "# https://github.com/Hvass-Labs/TensorFlow-Tutorials/blob/master/01_Simple_Linear_Model.ipynb\n",
    "# https://adeshpande3.github.io/adeshpande3.github.io/The-9-Deep-Learning-Papers-You-Need-To-Know-About.html\n",
    "import matplotlib.pyplot as plt\n",
    "import tensorflow as tf\n",
    "import numpy as np\n",
    "import pandas as pd\n",
    "from sklearn.metrics import confusion_matrix\n",
    "from tensorflow.examples.tutorials.mnist import input_data"
   ]
  },
  {
   "cell_type": "code",
   "execution_count": 25,
   "metadata": {
    "collapsed": true
   },
   "outputs": [],
   "source": [
    "def plot_example_errors():\n",
    "    # Use TensorFlow to get a list of boolean values\n",
    "    # whether each test-image has been correctly classified,\n",
    "    # and a list for the predicted class of each image.\n",
    "    correct, cls_pred = session.run([correct_prediction, y_pred_cls],\n",
    "                                    feed_dict=feed_dict_test)\n",
    "\n",
    "    # Negate the boolean array.\n",
    "    incorrect = (correct == False)\n",
    "    \n",
    "    # Get the images from the test-set that have been\n",
    "    # incorrectly classified.\n",
    "    images = data.test.images[incorrect]\n",
    "    \n",
    "    # Get the predicted classes for those images.\n",
    "    cls_pred = cls_pred[incorrect]\n",
    "\n",
    "    # Get the true classes for those images.\n",
    "    cls_true = data.test.cls[incorrect]\n",
    "    \n",
    "    # Plot the first 9 images.\n",
    "    plot_images(images=images[0:9],\n",
    "                cls_true=cls_true[0:9],\n",
    "                cls_pred=cls_pred[0:9])\n",
    "    \n",
    "def plot_weights():\n",
    "    # Get the values for the weights from the TensorFlow variable.\n",
    "    w = session.run(weights)\n",
    "    \n",
    "    # Get the lowest and highest values for the weights.\n",
    "    # This is used to correct the colour intensity across\n",
    "    # the images so they can be compared with each other.\n",
    "    w_min = np.min(w)\n",
    "    w_max = np.max(w)\n",
    "\n",
    "    # Create figure with 3x4 sub-plots,\n",
    "    # where the last 2 sub-plots are unused.\n",
    "    fig, axes = plt.subplots(3, 4)\n",
    "    fig.subplots_adjust(hspace=0.3, wspace=0.3)\n",
    "\n",
    "    for i, ax in enumerate(axes.flat):\n",
    "        # Only use the weights for the first 10 sub-plots.\n",
    "        if i<10:\n",
    "            # Get the weights for the i'th digit and reshape it.\n",
    "            # Note that w.shape == (img_size_flat, 10)\n",
    "            image = w[:, i].reshape(img_shape)\n",
    "\n",
    "            # Set the label for the sub-plot.\n",
    "            ax.set_xlabel(\"Weights: {0}\".format(i))\n",
    "\n",
    "            # Plot the image.\n",
    "            ax.imshow(image, vmin=w_min, vmax=w_max, cmap='seismic')\n",
    "\n",
    "        # Remove ticks from each sub-plot.\n",
    "        ax.set_xticks([])\n",
    "        ax.set_yticks([])\n",
    "        \n",
    "    # Ensure the plot is shown correctly with multiple plots\n",
    "    # in a single Notebook cell.\n",
    "    plt.show()\n",
    "\n",
    "def print_confusion_matrix():\n",
    "    # Get the true classifications for the test-set.\n",
    "    cls_true = data.test.cls\n",
    "    \n",
    "    # Get the predicted classifications for the test-set.\n",
    "    cls_pred = session.run(y_pred_cls, feed_dict=feed_dict_test)\n",
    "\n",
    "    # Get the confusion matrix using sklearn.\n",
    "    cm = confusion_matrix(y_true=cls_true,\n",
    "                          y_pred=cls_pred)\n",
    "\n",
    "    # Print the confusion matrix as text.\n",
    "    print(cm)\n",
    "\n",
    "    # Plot the confusion matrix as an image.\n",
    "    plt.imshow(cm, interpolation='nearest', cmap=plt.cm.Blues)\n",
    "\n",
    "    # Make various adjustments to the plot.\n",
    "    plt.tight_layout()\n",
    "    plt.colorbar()\n",
    "    tick_marks = np.arange(num_classes)\n",
    "    plt.xticks(tick_marks, range(num_classes))\n",
    "    plt.yticks(tick_marks, range(num_classes))\n",
    "    plt.xlabel('Predicted')\n",
    "    plt.ylabel('True')\n",
    "    \n",
    "    # Ensure the plot is shown correctly with multiple plots\n",
    "    # in a single Notebook cell.\n",
    "    plt.show()\n",
    "\n",
    "\n",
    "    \n",
    "def print_accuracy(feed_dict_test):\n",
    "    # Use TensorFlow to compute the accuracy.\n",
    "    acc = session.run(accuracy, feed_dict=feed_dict_test)\n",
    "    \n",
    "    # Print the accuracy.\n",
    "    print(\"Accuracy on test-set: {0:.1%}\".format(acc))\n",
    "\n",
    "def optimize(num_iterations, batch_size = 10):\n",
    "    for i in range(num_iterations):\n",
    "        # Get a batch of training examples.\n",
    "        # x_batch now holds a batch of images and\n",
    "        # y_true_batch are the true labels for those images.\n",
    "        x_batch, y_true_batch = data.train.next_batch(batch_size)\n",
    "        \n",
    "        # Put the batch into a dict with the proper names\n",
    "        # for placeholder variables in the TensorFlow graph.\n",
    "        # Note that the placeholder for y_true_cls is not set\n",
    "        # because it is not used during training.\n",
    "        feed_dict_train = {x: x_batch,\n",
    "                           y_true: y_true_batch}\n",
    "\n",
    "        # Run the optimizer using this batch of training data.\n",
    "        # TensorFlow assigns the variables in feed_dict_train\n",
    "        # to the placeholder variables and then runs the optimizer.\n",
    "        session.run(optimizer, feed_dict=feed_dict_train)\n",
    "\n",
    "\n",
    "# plotting 3x3 images of the training data with labels and prediction\n",
    "#\n",
    "def plot_images(images, cls_true, cls_pred=None):\n",
    "    assert len(images) == len(cls_true) == 9\n",
    "    \n",
    "    fig, axes = plt.subplots(3, 3)\n",
    "    fig.subplots_adjust(hspace=0.3, wspace=0.3)\n",
    "\n",
    "    for i, ax in enumerate(axes.flat):\n",
    "        ax.imshow(images[i].reshape(img_shape), cmap='binary')\n",
    "\n",
    "        if cls_pred is None:\n",
    "            xlabel = \"True: {0}\".format(cls_true[i])\n",
    "        else:\n",
    "            xlabel = \"True: {0}, Pred: {1}\".format(cls_true[i], cls_pred[i])\n",
    "\n",
    "        ax.set_xlabel(xlabel)\n",
    "        \n",
    "        # Remove ticks from the plot.\n",
    "        ax.set_xticks([])\n",
    "        ax.set_yticks([])\n",
    "        plt.savefig('12.png')\n",
    "        \n",
    "def jt_p(string, value):\n",
    "    try:\n",
    "        str(value)\n",
    "        print('\\n {:<50} {:>50}\\n'.format('- '+string+':', value))\n",
    "    except:\n",
    "        print('\\n {:<50} {:>50}\\n'.format('- '+string+':', value))"
   ]
  },
  {
   "cell_type": "markdown",
   "metadata": {},
   "source": [
    "Import and inspect data"
   ]
  },
  {
   "cell_type": "code",
   "execution_count": 26,
   "metadata": {
    "collapsed": false
   },
   "outputs": [
    {
     "name": "stdout",
     "output_type": "stream",
     "text": [
      "Extracting MNIST_data/train-images-idx3-ubyte.gz\n",
      "Extracting MNIST_data/train-labels-idx1-ubyte.gz\n",
      "Extracting MNIST_data/t10k-images-idx3-ubyte.gz\n",
      "Extracting MNIST_data/t10k-labels-idx1-ubyte.gz\n",
      "Size of:\n",
      "- Training-set:\t\t55000\n",
      "- Test-set:\t\t10000\n",
      "- Validation-set:\t5000\n",
      "- First  label:\t[0. 0. 0. 0. 0. 0. 0. 1. 0. 0.]\n",
      "\n",
      " - data.test.images[0:9]:                           [[0. 0. 0. ... 0. 0. 0.]\n",
      " [0. 0. 0. ... 0. 0. 0.]\n",
      " [0. 0. 0. ... 0. 0. 0.]\n",
      " ...\n",
      " [0. 0. 0. ... 0. 0. 0.]\n",
      " [0. 0. 0. ... 0. 0. 0.]\n",
      " [0. 0. 0. ... 0. 0. 0.]]\n",
      "\n"
     ]
    },
    {
     "data": {
      "image/png": "[encoded data removed]",
      "text/plain": [
       "<matplotlib.figure.Figure at 0x254b18f208>"
      ]
     },
     "metadata": {},
     "output_type": "display_data"
    }
   ],
   "source": [
    "data = input_data.read_data_sets(\"MNIST_data/\", one_hot=True)\n",
    "\n",
    "# investigate dataset\n",
    "#\n",
    "print(\"Size of:\")\n",
    "print(\"- Training-set:\\t\\t{}\".format(len(data.train.labels)))\n",
    "print(\"- Test-set:\\t\\t{}\".format(len(data.test.labels)))\n",
    "print(\"- Validation-set:\\t{}\".format(len(data.validation.labels)))\n",
    "print(\"- First  label:\\t{}\".format(data.train.labels[0]))\n",
    "\n",
    "\n",
    "# convert one-hot-encoding to actual numbers. cls means class labels, i.e. 9 for the image of a 9 !\n",
    "#\n",
    "data.test.cls = np.array([label.argmax() for  label in data.test.labels]) # argm. returns pos of the max argument of array\n",
    "\n",
    "# define some constants\n",
    "#\n",
    "img_size = 28\n",
    "img_size_flat = img_size * img_size\n",
    "img_shape = (img_size, img_size)\n",
    "num_classes = 10\n",
    "      \n",
    "\n",
    "jt_p('data.test.images[0:9]',str(data.test.images[0:9]))\n",
    "plot_images(data.test.images[0:9], data.test.cls[0:9], cls_pred = None)"
   ]
  },
  {
   "cell_type": "markdown",
   "metadata": {},
   "source": [
    "# Building the graph"
   ]
  },
  {
   "cell_type": "code",
   "execution_count": 27,
   "metadata": {
    "collapsed": true
   },
   "outputs": [],
   "source": [
    "'''\n",
    "Steps of building a tensorflowgraph:\n",
    "1. Make placeholder variables for tensors for the image data\n",
    "2. Make model variables e.g. weights, biases, kernels,...\n",
    "3. Make the model, i.e. define the NN architecture\n",
    "4. Define A cost measure that can be optimized\n",
    "5. Chose an ptimization method\n",
    "6. Define performance measures, analytics functions etc (in the graph).\n",
    "\n",
    "Run the graph:\n",
    "Create a Session\n",
    "'''\n",
    "\n",
    "\n",
    "#1.\n",
    "#\n",
    "x = tf.placeholder(tf.float32, [None, img_size_flat]) # any x 784"
   ]
  },
  {
   "cell_type": "markdown",
   "metadata": {},
   "source": [
    "$$\n",
    "X =\n",
    "  \\begin{bmatrix}\n",
    "    pixel_{0,0} & \\dots & pixel_{0,784}  \\\\\n",
    "    \\vdots &  \\ddots  &\\vdots   \\\\\n",
    "     pixel_{N_{images},0}&  \\dots  &pixel_{N_{images},784}\n",
    "  \\end{bmatrix}\n",
    "$$"
   ]
  },
  {
   "cell_type": "code",
   "execution_count": 28,
   "metadata": {
    "collapsed": true
   },
   "outputs": [],
   "source": [
    "y_true = tf.placeholder(tf.float32, [None, num_classes]) #any x 10\n",
    "y_true_cls = tf.placeholder(tf.int64, [None]) #any x"
   ]
  },
  {
   "cell_type": "markdown",
   "metadata": {},
   "source": [
    "\n",
    "$$\n",
    "y_{true} =\n",
    "  \\begin{bmatrix}\n",
    "    \\text{e.g. }0_{0,0} & 0_{0,1} & 1_{0,2}  \\dots & 0_{0,10}  \\\\\n",
    "    \\vdots & & \\ddots  &\\vdots   \\\\\n",
    "     \\text{e.g. }1_{N_{images}, 0}, & 0_{N_{images}, 1} & 0_{N_{images}, 2}  \\dots & 0_{N_{images}, 10}\n",
    "  \\end{bmatrix}\n",
    ", \\\\\\\n",
    " y_{true_{cls}} = \\text{e.g.}\n",
    "  \\begin{bmatrix}\n",
    "    0_{0,0}\\\\\n",
    "    8_{1,0}\\\\\n",
    "    \\vdots\\\\\n",
    "    4_{N_{images,0}}\n",
    "  \\end{bmatrix}\n",
    "$$"
   ]
  },
  {
   "cell_type": "code",
   "execution_count": 29,
   "metadata": {
    "collapsed": true
   },
   "outputs": [],
   "source": [
    "#2.\n",
    "\n",
    "# Dimensions depend on the model\n",
    "# E.g. linear model\n",
    "#\n",
    "weights = tf.Variable(tf.zeros([img_size_flat, num_classes])) # 784x10\n",
    "biases = tf.Variable(tf.zeros([num_classes])) #10"
   ]
  },
  {
   "cell_type": "markdown",
   "metadata": {},
   "source": [
    "$$  \n",
    "weights =\n",
    "  \\begin{bmatrix}\n",
    "  w_{0,0} & \\dots & w_{0,10}  \\\\\n",
    "  \\vdots &  \\ddots  &\\vdots   \\\\\n",
    "  w_{784,0}&  \\dots  &w_{784,10}\n",
    "  \\end{bmatrix}\n",
    "$$\n",
    "\n",
    "$$ biases = \n",
    "  \\begin{bmatrix}\n",
    "  b_{0,0} \\\\\n",
    "  \\vdots \\\\\n",
    "  b_{10,0}\n",
    "  \\end{bmatrix}\n",
    "$$\n"
   ]
  },
  {
   "cell_type": "code",
   "execution_count": 30,
   "metadata": {
    "collapsed": true
   },
   "outputs": [],
   "source": [
    "#3.\n",
    "\n",
    "# Make the model\n",
    "#\n",
    "logits = tf.matmul(x, weights) + biases # (any(#images) x 784) x (784x10) = any(#images) x 10"
   ]
  },
  {
   "cell_type": "markdown",
   "metadata": {},
   "source": [
    "$$\n",
    "  \\begin{bmatrix}\n",
    "    pixel_{0,0} & \\dots & pixel_{0,784}  \\\\\n",
    "    \\vdots &  \\ddots  &\\vdots   \\\\\n",
    "     pixel_{N_{images},0}&  \\dots  &pixel_{N_{images},784}\n",
    "  \\end{bmatrix}\n",
    "  *\n",
    "\\begin{bmatrix}\n",
    "  w_{0,0} & \\dots & w_{0,10}  \\\\\n",
    "  \\vdots &  \\ddots  &\\vdots   \\\\\n",
    "  w_{784,0}&  \\dots  &w_{784,10}\n",
    "  \\end{bmatrix}\n",
    "    +\n",
    "      \\begin{bmatrix}\n",
    "  b_{0,0} \\\\\n",
    "  \\vdots \\\\\n",
    "  b_{10,0}\n",
    "  \\end{bmatrix}\n",
    "  =\n",
    "\\begin{bmatrix}\n",
    "  l_{0,0} & \\dots & l_{0,10}  \\\\\n",
    "  \\vdots &  \\ddots  &\\vdots   \\\\\n",
    "  l_{N_{images},0}&  \\dots  &l_{N_{images},0}\n",
    "  \\end{bmatrix}\n",
    "    $$\n",
    "    \n",
    "Biases has length 10 but is added to each row  of the matrix product."
   ]
  },
  {
   "cell_type": "code",
   "execution_count": 31,
   "metadata": {
    "collapsed": true
   },
   "outputs": [],
   "source": [
    "y_pred = tf.nn.softmax(logits)"
   ]
  },
  {
   "cell_type": "markdown",
   "metadata": {},
   "source": [
    "To each l_i_j the softmax function is applied. The result has the same dimensions as logits"
   ]
  },
  {
   "cell_type": "code",
   "execution_count": 32,
   "metadata": {
    "collapsed": true
   },
   "outputs": [],
   "source": [
    "y_pred_cls = tf.argmax(y_pred, axis=1)"
   ]
  },
  {
   "cell_type": "markdown",
   "metadata": {},
   "source": [
    "$$\n",
    "\\begin{bmatrix}\n",
    "  \\text{argmax}(row_0(y_{pred}))_{0,0}   \\\\\n",
    "  \\vdots \\\\\n",
    "  \\text{argmax}(row_{N_{images}}(y_{pred}))_{N_{images},0} \n",
    "  \\end{bmatrix}\n",
    "  $$"
   ]
  },
  {
   "cell_type": "code",
   "execution_count": 33,
   "metadata": {
    "collapsed": false
   },
   "outputs": [],
   "source": [
    "#4.\n",
    "\n",
    "# Define Cost-function\n",
    "#\n",
    "\n",
    "#5.\n",
    "\n",
    "# Define optmization method\n",
    "#\n",
    "\n",
    "#6. Define performance measures, analytics functions etc (in the graph).\n",
    "#"
   ]
  },
  {
   "cell_type": "markdown",
   "metadata": {},
   "source": [
    "# Execute the graph, i.e. runing a session. \n",
    "A single session. The i/o from this simple run is a tensor.\n",
    "\n"
   ]
  },
  {
   "cell_type": "code",
   "execution_count": 34,
   "metadata": {
    "collapsed": false
   },
   "outputs": [
    {
     "name": "stdout",
     "output_type": "stream",
     "text": [
      "\n",
      " - Output shape of the logits tensor:                                                    [55000    10]\n",
      "\n",
      "\n",
      " - Output shape of the y_pred tensor:                                                    [55000    10]\n",
      "\n",
      "\n",
      " - Output shape of the y_pred_cls tensor:                                                      [55000]\n",
      "\n"
     ]
    }
   ],
   "source": [
    "# 6.\n",
    "# Setup session\n",
    "\n",
    "session = tf.Session()\n",
    "session.run(tf.global_variables_initializer())\n",
    "\n",
    "jt_p('Output shape of the logits tensor',str(session.run(tf.shape(logits), feed_dict={x:data.train.images})))\n",
    "jt_p('Output shape of the y_pred tensor',str(session.run(tf.shape(y_pred), feed_dict={x:data.train.images})))\n",
    "jt_p('Output shape of the y_pred_cls tensor',str(session.run(tf.shape(y_pred_cls), feed_dict={x:data.train.images})))\n",
    "\n"
   ]
  },
  {
   "cell_type": "markdown",
   "metadata": {},
   "source": [
    "# Building a more complex graph\n",
    "With cost function and cost optimization method implementation for the model.\n",
    "Remodeling the graph"
   ]
  },
  {
   "cell_type": "code",
   "execution_count": 35,
   "metadata": {
    "collapsed": false
   },
   "outputs": [],
   "source": [
    "#3. Make the model\n",
    "#\n",
    "logits = tf.matmul(x, weights) + biases # (any(#images) x 784) x (784x10) = any(#images) x 10\n",
    "y_pred = tf.nn.softmax(logits)\n",
    "y_pred_cls = tf.argmax(y_pred, axis=1)\n",
    "\n",
    "#4. Define Cost-function\n",
    "#\n",
    "# logits is the inverse function of the sigmoid function. I.e. it maps P's from [0:1] to [-inf:inf]\n",
    "# with logits refers to using cross entropy with an input, that is the output with a ?'logit'-like [-inf:inf] distribution?'?\n",
    "# (C) Google:  (logit) ... 'which will return the raw values for our predictions'\n",
    "cross_entropy = tf.nn.softmax_cross_entropy_with_logits(logits=logits,\n",
    "                                                        labels=y_true) # shape [N_images x 10]\n",
    "cost = tf.reduce_mean(cross_entropy) # single scalar value\n",
    "\n",
    "#5.\n",
    "#\n",
    "# Define optmization method\n",
    "#\n",
    "optimizer = tf.train.GradientDescentOptimizer(learning_rate=0.5).minimize(cost)\n",
    "\n",
    "# 6. Define performance measure, analytic functions (insert into the graph)\n",
    "#\n",
    "#\n",
    "correct_prediction = tf.equal(y_pred_cls, y_true_cls) # bool if equal\n",
    "accuracy = tf.reduce_mean(tf.cast(correct_prediction, tf.float32)) # i: bool-vector, o:scalar-accuracy"
   ]
  },
  {
   "cell_type": "markdown",
   "metadata": {},
   "source": [
    "# Running the session"
   ]
  },
  {
   "cell_type": "code",
   "execution_count": 36,
   "metadata": {
    "collapsed": false
   },
   "outputs": [
    {
     "name": "stdout",
     "output_type": "stream",
     "text": [
      "Accuracy on test-set: 9.8%\n",
      "Accuracy on test-set: 15.1%\n"
     ]
    },
    {
     "data": {
      "image/png": "[encoded data removed]",
      "text/plain": [
       "<matplotlib.figure.Figure at 0x25012a2f60>"
      ]
     },
     "metadata": {},
     "output_type": "display_data"
    },
    {
     "data": {
      "image/png": "[encoded data removed]",
      "text/plain": [
       "<matplotlib.figure.Figure at 0x25011d2668>"
      ]
     },
     "metadata": {},
     "output_type": "display_data"
    },
    {
     "data": {
      "image/png": "[encoded data removed]",
      "text/plain": [
       "<matplotlib.figure.Figure at 0x254b19bf28>"
      ]
     },
     "metadata": {},
     "output_type": "display_data"
    },
    {
     "name": "stdout",
     "output_type": "stream",
     "text": [
      "Accuracy on test-set: 80.0%\n"
     ]
    },
    {
     "data": {
      "image/png": "[encoded data removed]",
      "text/plain": [
       "<matplotlib.figure.Figure at 0x2501353278>"
      ]
     },
     "metadata": {},
     "output_type": "display_data"
    },
    {
     "data": {
      "image/png": "[encoded data removed]",
      "text/plain": [
       "<matplotlib.figure.Figure at 0x25000a06d8>"
      ]
     },
     "metadata": {},
     "output_type": "display_data"
    },
    {
     "name": "stdout",
     "output_type": "stream",
     "text": [
      "[[ 742    0    2    6    2   18   18    4  188    0]\n",
      " [   0 1054    4    1    0    3    0    0   72    1]\n",
      " [   7   34  750   16   21    2    6   27  165    4]\n",
      " [   2    8   13  788    1   23    2    7  155   11]\n",
      " [   0   13    4    1  837    1   13    0   60   53]\n",
      " [   1    8    9   47    8  520    8    1  287    3]\n",
      " [   7    3   20    1   39   16  807    3   62    0]\n",
      " [   2   30   10    3   18    2    0  869   47   47]\n",
      " [   0   10    6   11    8    1    0    2  935    1]\n",
      " [   4   10    6   13  124   21    0   29  100  702]]\n"
     ]
    },
    {
     "data": {
      "image/png": "[encoded data removed]",
      "text/plain": [
       "<matplotlib.figure.Figure at 0x254b340d68>"
      ]
     },
     "metadata": {},
     "output_type": "display_data"
    }
   ],
   "source": [
    "session = tf.Session()\n",
    "session.run(tf.global_variables_initializer())\n",
    "#batch_size = 100\n",
    "\n",
    "# Hold it ready whenever the graph computation needs it...\n",
    "feed_dict_test = {x: data.test.images,\n",
    "                  y_true: data.test.labels,\n",
    "                  y_true_cls: data.test.cls}\n",
    "\n",
    "\n",
    "print_accuracy(feed_dict_test) # o: (print) accuracy-tensor before any model optimization \n",
    "plot_example_errors() \n",
    "\n",
    "optimize(num_iterations=3)\n",
    "print_accuracy(feed_dict_test) # : (print) accuracy-tensor after 3 optimization steps\n",
    "plot_example_errors()\n",
    "plot_weights()\n",
    "\n",
    "optimize(num_iterations=100)\n",
    "print_accuracy(feed_dict_test) # : (print) accuracy-tensor after 100 optimization steps\n",
    "plot_example_errors()\n",
    "plot_weights()\n",
    "\n",
    "print_confusion_matrix()"
   ]
  },
  {
   "cell_type": "markdown",
   "metadata": {},
   "source": [
    "# Final thoughts on this model\n",
    "One can notice that me model has problems predicting 5's and 8's correctly. A 9 gets relatively often missclassified as a 4 or a 7. Predicting 1's is the most easy problem to solve.\n",
    "\n",
    "I think that an accuracy of 85 % is still an amazing value for a linear model given the complexicty of the task."
   ]
  },
  {
   "cell_type": "code",
   "execution_count": null,
   "metadata": {
    "collapsed": true
   },
   "outputs": [],
   "source": []
  }
 ],
 "metadata": {
  "anaconda-cloud": {},
  "kernelspec": {
   "display_name": "Python [conda env:tensorflow]",
   "language": "python",
   "name": "conda-env-tensorflow-py"
  },
  "language_info": {
   "codemirror_mode": {
    "name": "ipython",
    "version": 3
   },
   "file_extension": ".py",
   "mimetype": "text/x-python",
   "name": "python",
   "nbconvert_exporter": "python",
   "pygments_lexer": "ipython3",
   "version": "3.5.4"
  }
 },
 "nbformat": 4,
 "nbformat_minor": 1
}
